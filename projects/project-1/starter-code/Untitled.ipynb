{
 "cells": [
  {
   "cell_type": "code",
   "execution_count": 1,
   "metadata": {},
   "outputs": [
    {
     "name": "stderr",
     "output_type": "stream",
     "text": [
      "/anaconda2/lib/python2.7/site-packages/statsmodels/compat/pandas.py:56: FutureWarning: The pandas.core.datetools module is deprecated and will be removed in a future version. Please use the pandas.tseries module instead.\n",
      "  from pandas.core import datetools\n"
     ]
    }
   ],
   "source": [
    "from __future__ import division\n",
    "import pandas as pd\n",
    "import numpy as np\n",
    "import matplotlib.pyplot as plt\n",
    "import statsmodels.api as sm\n",
    "import pylab as pl\n",
    "import numpy as np\n",
    "%matplotlib inline"
   ]
  },
  {
   "cell_type": "code",
   "execution_count": 4,
   "metadata": {},
   "outputs": [
    {
     "name": "stdout",
     "output_type": "stream",
     "text": [
      "        ID Case Number                    Date                  Block  IUCR  \\\n",
      "0  4647369    HM155213  01/31/2006 12:13:05 PM   066XX N BOSWORTH AVE  1811   \n",
      "1  4647370    HM245080  03/21/2006 07:00:00 PM    062XX S WESTERN AVE  1330   \n",
      "2  4647372    HM171175  02/09/2006 01:44:41 AM    058XX S SHIELDS AVE  1811   \n",
      "3  4647373    HM244805  03/21/2006 04:45:00 PM  011XX N SPAULDING AVE  0810   \n",
      "4  4647374    HM245851  03/21/2006 10:00:00 PM     080XX S DOBSON AVE  0820   \n",
      "\n",
      "        Primary Type                   Description  \\\n",
      "0          NARCOTICS  POSS: CANNABIS 30GMS OR LESS   \n",
      "1  CRIMINAL TRESPASS                       TO LAND   \n",
      "2          NARCOTICS  POSS: CANNABIS 30GMS OR LESS   \n",
      "3              THEFT                     OVER $500   \n",
      "4              THEFT                $500 AND UNDER   \n",
      "\n",
      "                Location Description  Arrest  Domestic  \\\n",
      "0           SCHOOL, PUBLIC, BUILDING    True     False   \n",
      "1     PARKING LOT/GARAGE(NON.RESID.)    True     False   \n",
      "2                             STREET    True     False   \n",
      "3  CHURCH/SYNAGOGUE/PLACE OF WORSHIP   False     False   \n",
      "4                             STREET   False     False   \n",
      "\n",
      "               ...                Ward  Community Area  FBI Code  \\\n",
      "0              ...                40.0             1.0        18   \n",
      "1              ...                15.0            66.0        26   \n",
      "2              ...                20.0            68.0        18   \n",
      "3              ...                26.0            23.0        06   \n",
      "4              ...                 8.0            44.0        06   \n",
      "\n",
      "   X Coordinate Y Coordinate  Year              Updated On   Latitude  \\\n",
      "0     1164737.0    1944193.0  2006  04/15/2016 08:55:02 AM  42.002478   \n",
      "1     1161441.0    1863309.0  2006  04/15/2016 08:55:02 AM  41.780595   \n",
      "2     1174958.0    1866097.0  2006  04/15/2016 08:55:02 AM  41.787955   \n",
      "3     1154100.0    1907414.0  2006  04/15/2016 08:55:02 AM  41.901774   \n",
      "4     1184622.0    1851863.0  2006  04/15/2016 08:55:02 AM  41.748675   \n",
      "\n",
      "   Longitude                       Location  \n",
      "0 -87.669297   (42.002478396, -87.66929687)  \n",
      "1 -87.683676   (41.780595495, -87.68367553)  \n",
      "2 -87.634037  (41.787955143, -87.634036744)  \n",
      "3 -87.709415  (41.901774026, -87.709414574)  \n",
      "4 -87.599049  (41.748674558, -87.599048654)  \n",
      "\n",
      "[5 rows x 22 columns]\n"
     ]
    }
   ],
   "source": [
    "df = pd.read_csv('/Users/vvnikitin/Desktop/Crimes_-_2001_to_present.csv')\n",
    "print df.head()"
   ]
  },
  {
   "cell_type": "code",
   "execution_count": 5,
   "metadata": {},
   "outputs": [
    {
     "data": {
      "text/plain": [
       "ID                      6483993\n",
       "Case Number             6483989\n",
       "Date                    6483993\n",
       "Block                   6483993\n",
       "IUCR                    6483993\n",
       "Primary Type            6483993\n",
       "Description             6483993\n",
       "Location Description    6481026\n",
       "Arrest                  6483993\n",
       "Domestic                6483993\n",
       "Beat                    6483993\n",
       "District                6483944\n",
       "Ward                    5869140\n",
       "Community Area          5867964\n",
       "FBI Code                6483993\n",
       "X Coordinate            6397164\n",
       "Y Coordinate            6397164\n",
       "Year                    6483993\n",
       "Updated On              6483993\n",
       "Latitude                6397164\n",
       "Longitude               6397164\n",
       "Location                6397164\n",
       "dtype: int64"
      ]
     },
     "execution_count": 5,
     "metadata": {},
     "output_type": "execute_result"
    }
   ],
   "source": [
    "df.count()"
   ]
  },
  {
   "cell_type": "code",
   "execution_count": null,
   "metadata": {
    "collapsed": true
   },
   "outputs": [],
   "source": []
  }
 ],
 "metadata": {
  "kernelspec": {
   "display_name": "Python 2",
   "language": "python",
   "name": "python2"
  },
  "language_info": {
   "codemirror_mode": {
    "name": "ipython",
    "version": 2
   },
   "file_extension": ".py",
   "mimetype": "text/x-python",
   "name": "python",
   "nbconvert_exporter": "python",
   "pygments_lexer": "ipython2",
   "version": "2.7.14"
  }
 },
 "nbformat": 4,
 "nbformat_minor": 2
}
